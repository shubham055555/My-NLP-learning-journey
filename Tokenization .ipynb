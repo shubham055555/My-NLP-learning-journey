{
 "cells": [
  {
   "cell_type": "code",
   "execution_count": 21,
   "id": "4dda9898-a1a2-4c96-a335-c2b290941fd2",
   "metadata": {},
   "outputs": [],
   "source": [
    "corpus = \"\"\"\n",
    "Hello my name is shubham and i am passionate about Artificial intelligence and machine learning \n",
    "please subscribe my youtube channel.\n",
    "\n",
    "\"\"\""
   ]
  },
  {
   "cell_type": "code",
   "execution_count": 22,
   "id": "1d843ae1-d56f-4578-9a61-1cb97917ebd8",
   "metadata": {},
   "outputs": [],
   "source": [
    "from nltk.tokenize import sent_tokenize"
   ]
  },
  {
   "cell_type": "code",
   "execution_count": 23,
   "id": "03f4839f-e2b5-4452-acd7-585daf16592e",
   "metadata": {},
   "outputs": [
    {
     "data": {
      "text/plain": [
       "['\\nHello my name is shubham and i am passionate about Artificial intelligence and machine learning \\nplease subscribe my youtube channel.']"
      ]
     },
     "execution_count": 23,
     "metadata": {},
     "output_type": "execute_result"
    }
   ],
   "source": [
    "sent_tokenize(corpus)\n"
   ]
  },
  {
   "cell_type": "code",
   "execution_count": 25,
   "id": "515beff5-8ff1-424b-a2e0-38b5bc1c2856",
   "metadata": {},
   "outputs": [],
   "source": [
    "from nltk.tokenize import word_tokenize"
   ]
  },
  {
   "cell_type": "code",
   "execution_count": 26,
   "id": "6571ef9d-9220-4b48-8af5-ab88e7c2df2d",
   "metadata": {},
   "outputs": [
    {
     "data": {
      "text/plain": [
       "['Hello',\n",
       " 'my',\n",
       " 'name',\n",
       " 'is',\n",
       " 'shubham',\n",
       " 'and',\n",
       " 'i',\n",
       " 'am',\n",
       " 'passionate',\n",
       " 'about',\n",
       " 'Artificial',\n",
       " 'intelligence',\n",
       " 'and',\n",
       " 'machine',\n",
       " 'learning',\n",
       " 'please',\n",
       " 'subscribe',\n",
       " 'my',\n",
       " 'youtube',\n",
       " 'channel',\n",
       " '.']"
      ]
     },
     "execution_count": 26,
     "metadata": {},
     "output_type": "execute_result"
    }
   ],
   "source": [
    "word_tokenize(corpus)"
   ]
  },
  {
   "cell_type": "code",
   "execution_count": 30,
   "id": "e1558ec1-0353-47a2-9e9c-8cb4fae484e0",
   "metadata": {},
   "outputs": [],
   "source": [
    "from nltk.tokenize import wordpunct_tokenize"
   ]
  },
  {
   "cell_type": "code",
   "execution_count": 31,
   "id": "7f4dbdda-e225-46f4-8f12-fa6faab4569b",
   "metadata": {},
   "outputs": [
    {
     "data": {
      "text/plain": [
       "['Hello',\n",
       " 'my',\n",
       " 'name',\n",
       " 'is',\n",
       " 'shubham',\n",
       " 'and',\n",
       " 'i',\n",
       " 'am',\n",
       " 'passionate',\n",
       " 'about',\n",
       " 'Artificial',\n",
       " 'intelligence',\n",
       " 'and',\n",
       " 'machine',\n",
       " 'learning',\n",
       " 'please',\n",
       " 'subscribe',\n",
       " 'my',\n",
       " 'youtube',\n",
       " 'channel',\n",
       " '.']"
      ]
     },
     "execution_count": 31,
     "metadata": {},
     "output_type": "execute_result"
    }
   ],
   "source": [
    "wordpunct_tokenize(corpus)"
   ]
  },
  {
   "cell_type": "code",
   "execution_count": 39,
   "id": "cda60e81-5f19-4e2e-b079-67ffc56c21f7",
   "metadata": {},
   "outputs": [],
   "source": [
    "from nltk.tokenize import TreebankWordTokenizer"
   ]
  },
  {
   "cell_type": "code",
   "execution_count": 41,
   "id": "4a893f1d-5709-45f8-b09a-4bf1ec66418a",
   "metadata": {},
   "outputs": [
    {
     "data": {
      "text/plain": [
       "['Hello',\n",
       " 'my',\n",
       " 'name',\n",
       " 'is',\n",
       " 'shubham',\n",
       " 'and',\n",
       " 'i',\n",
       " 'am',\n",
       " 'passionate',\n",
       " 'about',\n",
       " 'Artificial',\n",
       " 'intelligence',\n",
       " 'and',\n",
       " 'machine',\n",
       " 'learning',\n",
       " 'please',\n",
       " 'subscribe',\n",
       " 'my',\n",
       " 'youtube',\n",
       " 'channel',\n",
       " '.']"
      ]
     },
     "execution_count": 41,
     "metadata": {},
     "output_type": "execute_result"
    }
   ],
   "source": [
    "tokenizer = TreebankWordTokenizer()\n",
    "tokenizer.tokenize(corpus)\n"
   ]
  },
  {
   "cell_type": "code",
   "execution_count": null,
   "id": "8f71ce3c-effd-45d8-b3da-b30d0a558134",
   "metadata": {},
   "outputs": [],
   "source": []
  }
 ],
 "metadata": {
  "kernelspec": {
   "display_name": "Python 3 (ipykernel)",
   "language": "python",
   "name": "python3"
  },
  "language_info": {
   "codemirror_mode": {
    "name": "ipython",
    "version": 3
   },
   "file_extension": ".py",
   "mimetype": "text/x-python",
   "name": "python",
   "nbconvert_exporter": "python",
   "pygments_lexer": "ipython3",
   "version": "3.10.7"
  }
 },
 "nbformat": 4,
 "nbformat_minor": 5
}
