{
 "cells": [
  {
   "cell_type": "code",
   "execution_count": 3,
   "id": "b0ecf466-3fd7-49df-bb75-823eef36fe92",
   "metadata": {},
   "outputs": [],
   "source": [
    "from nltk.stem import PorterStemmer "
   ]
  },
  {
   "cell_type": "code",
   "execution_count": 4,
   "id": "52ce579e-ad0b-47ec-9edc-0a037b9dc658",
   "metadata": {},
   "outputs": [],
   "source": [
    "stemming = PorterStemmer()"
   ]
  },
  {
   "cell_type": "code",
   "execution_count": 14,
   "id": "7b6579c7-6598-450f-8a8e-3eea93151006",
   "metadata": {},
   "outputs": [],
   "source": [
    "words = [\"eating\",\"eats\",\"eaten\",\"writing\",\"writes\",\"programming\",\"programs\",\"history\",\"congratulations\"]"
   ]
  },
  {
   "cell_type": "code",
   "execution_count": 15,
   "id": "3ae8e531-d064-4229-b5a3-f13e76b81e57",
   "metadata": {},
   "outputs": [
    {
     "name": "stdout",
     "output_type": "stream",
     "text": [
      "eating----->eat\n",
      "eats----->eat\n",
      "eaten----->eaten\n",
      "writing----->write\n",
      "writes----->write\n",
      "programming----->program\n",
      "programs----->program\n",
      "history----->histori\n",
      "congratulations----->congratul\n"
     ]
    }
   ],
   "source": [
    "for word in words:\n",
    "    print(word+\"----->\"+ stemming.stem(word))\n",
    "    "
   ]
  },
  {
   "cell_type": "code",
   "execution_count": 18,
   "id": "20d73680-3699-4f69-b496-6f97bb544aeb",
   "metadata": {},
   "outputs": [],
   "source": [
    " ## Lancaster Stemming Algorithm \n",
    "from nltk.stem import LancasterStemmer "
   ]
  },
  {
   "cell_type": "code",
   "execution_count": 19,
   "id": "fdbbd8e6-656e-47bf-97f5-809cc8dc2e8f",
   "metadata": {},
   "outputs": [],
   "source": [
    "lancaster = LancasterStemmer()"
   ]
  },
  {
   "cell_type": "code",
   "execution_count": 21,
   "id": "b8c40b29-d8bb-4bc9-ae1d-a1ce9f02cada",
   "metadata": {},
   "outputs": [
    {
     "name": "stdout",
     "output_type": "stream",
     "text": [
      "eating----->eat\n",
      "eats----->eat\n",
      "eaten----->eat\n",
      "writing----->writ\n",
      "writes----->writ\n",
      "programming----->program\n",
      "programs----->program\n",
      "history----->hist\n",
      "congratulations----->congrat\n"
     ]
    }
   ],
   "source": [
    "for word in words:\n",
    "    print(word+\"----->\"+ lancaster.stem(word))\n",
    "    "
   ]
  },
  {
   "cell_type": "code",
   "execution_count": 22,
   "id": "068cecf6-0de5-4d3d-b60e-e0f72f68b6dd",
   "metadata": {},
   "outputs": [],
   "source": [
    "from nltk.stem import RegexpStemmer"
   ]
  },
  {
   "cell_type": "code",
   "execution_count": 23,
   "id": "85951b72-8a29-476b-be07-7c6f17280ecd",
   "metadata": {},
   "outputs": [],
   "source": [
    "reg_stemmer=RegexpStemmer('ing$|s&|e$|able$', min=4)"
   ]
  },
  {
   "cell_type": "code",
   "execution_count": 24,
   "id": "9f99c755-0b4e-47d1-8234-95b2e06d2c6f",
   "metadata": {},
   "outputs": [
    {
     "data": {
      "text/plain": [
       "'eat'"
      ]
     },
     "execution_count": 24,
     "metadata": {},
     "output_type": "execute_result"
    }
   ],
   "source": [
    "reg_stemmer.stem('eating')"
   ]
  },
  {
   "cell_type": "code",
   "execution_count": 29,
   "id": "5219bf4b-4c98-4017-aa2f-0e078e0eb2ea",
   "metadata": {},
   "outputs": [
    {
     "data": {
      "text/plain": [
       "'play'"
      ]
     },
     "execution_count": 29,
     "metadata": {},
     "output_type": "execute_result"
    }
   ],
   "source": [
    "reg_stemmer.stem('playing')"
   ]
  },
  {
   "cell_type": "code",
   "execution_count": 30,
   "id": "9e08088c-81da-4966-a904-87d2994faae8",
   "metadata": {},
   "outputs": [],
   "source": [
    "## SnowBall Stemmer \n",
    "from nltk.stem import SnowballStemmer"
   ]
  },
  {
   "cell_type": "code",
   "execution_count": 33,
   "id": "a00c55c1-bfa7-4c5b-b34b-b106469a39d0",
   "metadata": {},
   "outputs": [],
   "source": [
    "snowballstemmer= SnowballStemmer('english',ignore_stopwords=False)"
   ]
  },
  {
   "cell_type": "code",
   "execution_count": 34,
   "id": "b8061753-9cea-416c-931f-db3843258488",
   "metadata": {},
   "outputs": [
    {
     "name": "stdout",
     "output_type": "stream",
     "text": [
      "eating----->eat\n",
      "eats----->eat\n",
      "eaten----->eaten\n",
      "writing----->write\n",
      "writes----->write\n",
      "programming----->program\n",
      "programs----->program\n",
      "history----->histori\n",
      "congratulations----->congratul\n"
     ]
    }
   ],
   "source": [
    "for word in words:\n",
    "    print(word+\"----->\"+ snowballstemmer.stem(word))"
   ]
  },
  {
   "cell_type": "code",
   "execution_count": 35,
   "id": "436680ab-2d60-48b2-a01b-fc0a4658eaf3",
   "metadata": {},
   "outputs": [
    {
     "data": {
      "text/plain": [
       "('fairli', 'sportingli')"
      ]
     },
     "execution_count": 35,
     "metadata": {},
     "output_type": "execute_result"
    }
   ],
   "source": [
    "stemming.stem('fairly'),stemming.stem('sportingly')"
   ]
  },
  {
   "cell_type": "code",
   "execution_count": 36,
   "id": "52fd119f-736c-455f-8a03-557376d60fdc",
   "metadata": {},
   "outputs": [
    {
     "data": {
      "text/plain": [
       "('fair', 'sport')"
      ]
     },
     "execution_count": 36,
     "metadata": {},
     "output_type": "execute_result"
    }
   ],
   "source": [
    "snowballstemmer.stem('fairly'),snowballstemmer.stem('sportingly')"
   ]
  },
  {
   "cell_type": "code",
   "execution_count": null,
   "id": "f73b5221-390b-42aa-bfb6-80e678eea718",
   "metadata": {},
   "outputs": [],
   "source": []
  }
 ],
 "metadata": {
  "kernelspec": {
   "display_name": "Python 3 (ipykernel)",
   "language": "python",
   "name": "python3"
  },
  "language_info": {
   "codemirror_mode": {
    "name": "ipython",
    "version": 3
   },
   "file_extension": ".py",
   "mimetype": "text/x-python",
   "name": "python",
   "nbconvert_exporter": "python",
   "pygments_lexer": "ipython3",
   "version": "3.10.7"
  }
 },
 "nbformat": 4,
 "nbformat_minor": 5
}
